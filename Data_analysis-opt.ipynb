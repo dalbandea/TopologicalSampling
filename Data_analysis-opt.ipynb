{
 "cells": [
  {
   "cell_type": "markdown",
   "metadata": {},
   "source": [
    "# Optimized data analysis"
   ]
  },
  {
   "cell_type": "code",
   "execution_count": 1,
   "metadata": {
    "ExecuteTime": {
     "end_time": "2020-11-20T12:33:16.528773Z",
     "start_time": "2020-11-20T12:32:40.430008Z"
    }
   },
   "outputs": [],
   "source": [
    "from __future__ import print_function\n",
    "import numpy as np\n",
    "#import matplotlib.pyplot as plt\n",
    "import math\n",
    "import scipy.interpolate\n",
    "import os\n",
    "#%matplotlib inline\n",
    "#plt.rcParams['figure.figsize'] = (15, 8)\n",
    "\n",
    "# only with Python2.7 !!\n",
    "import sys\n",
    "sys.path.insert(0,'/usr/lib/python2.7/pyobs-master/')\n",
    "from pyobs import *"
   ]
  },
  {
   "cell_type": "code",
   "execution_count": 2,
   "metadata": {
    "ExecuteTime": {
     "end_time": "2020-11-20T12:33:16.554653Z",
     "start_time": "2020-11-20T12:33:16.533795Z"
    }
   },
   "outputs": [],
   "source": [
    "def round_on_error(value, error):\n",
    "    significant_digits = 1-int(math.floor(math.log(error, 10)))\n",
    "    return round(value,significant_digits)\n",
    "\n",
    "def get_2_significant(value):\n",
    "    return round(value,1-int(math.floor(math.log(value, 10))))\n",
    "\n",
    "def get_2_significant_0(value):\n",
    "    return int(round(10.0/(10.0**int(math.floor(math.log(value, 10))))*value,0))\n",
    "\n",
    "def get_position_sign(error):\n",
    "    return 1-int(math.floor(math.log(error, 10)))\n",
    "   \n",
    "# Function that given a value and an error returns value(error) with two significant digits.    \n",
    "def printwe(value,error):\n",
    "    e = get_2_significant(error)\n",
    "    a = get_position_sign(e)\n",
    "    e = get_2_significant_0(error)\n",
    "    stri = '{:.' + str(a) + 'f}({})' \n",
    "    print(stri.format(value,e))"
   ]
  },
  {
   "cell_type": "markdown",
   "metadata": {},
   "source": [
    "## Define I/O file paths"
   ]
  },
  {
   "cell_type": "code",
   "execution_count": 330,
   "metadata": {
    "ExecuteTime": {
     "end_time": "2020-11-20T17:02:32.011276Z",
     "start_time": "2020-11-20T17:02:32.002697Z"
    }
   },
   "outputs": [],
   "source": [
    "numobservables = 4"
   ]
  },
  {
   "cell_type": "code",
   "execution_count": 331,
   "metadata": {
    "ExecuteTime": {
     "end_time": "2020-11-20T17:02:32.152175Z",
     "start_time": "2020-11-20T17:02:32.145097Z"
    }
   },
   "outputs": [],
   "source": [
    "results_dir = 'results/stau2.txt'\n",
    "#results_dir = 'results/newfile.txt'"
   ]
  },
  {
   "cell_type": "code",
   "execution_count": 338,
   "metadata": {
    "ExecuteTime": {
     "end_time": "2020-11-20T17:03:03.541405Z",
     "start_time": "2020-11-20T17:03:03.526829Z"
    }
   },
   "outputs": [],
   "source": [
    "data_directories = ['data/datahmc.txt',\n",
    "                    'data/dataaltw.txt',\n",
    "                    'data/dataalti.txt',\n",
    "                    'data/dataaltw2.txt',\n",
    "                    'data/dataaltw3.txt',\n",
    "                    'data/dataaltw4.txt',\n",
    "                    'data/dataaltw6.txt',\n",
    "                    'data/datadoubaltw.txt'\n",
    "                    ]"
   ]
  },
  {
   "cell_type": "markdown",
   "metadata": {},
   "source": [
    "## Check if up to date"
   ]
  },
  {
   "cell_type": "code",
   "execution_count": 339,
   "metadata": {
    "ExecuteTime": {
     "end_time": "2020-11-20T17:03:04.858974Z",
     "start_time": "2020-11-20T17:03:04.852047Z"
    }
   },
   "outputs": [],
   "source": [
    "update = [True]*len(data_directories)"
   ]
  },
  {
   "cell_type": "code",
   "execution_count": 340,
   "metadata": {
    "ExecuteTime": {
     "end_time": "2020-11-20T17:03:10.429170Z",
     "start_time": "2020-11-20T17:03:10.343099Z"
    }
   },
   "outputs": [],
   "source": [
    "if(os.path.isfile(results_dir)):\n",
    "    results = np.genfromtxt(results_dir, dtype=([('Data_directory', 'S30'), ('Stau', '<f8'),   ('N_configs', '<i4'), \n",
    "                ('t2E1', '<f8'), ('errt2E1', '<f8'), ('taut2E1', '<f8'), ('errtaut2E1', '<f8'),\n",
    "                ('t2E5', '<f8'), ('errt2E5', '<f8'), ('taut2E5', '<f8'), ('errtaut2E5', '<f8'),\n",
    "                ('t2E7', '<f8'), ('errt2E7', '<f8'), ('taut2E7', '<f8'), ('errtaut2E7', '<f8'),\n",
    "                ('Q', '<f8'), ('errQ', '<f8'), ('tauQ', '<f8'), ('errtauQ', '<f8')]))\n",
    "    for i in range(len(results)):\n",
    "        nconfigs_dir = sum(1 for line in open(results['Data_directory'][i]))\n",
    "        if( results['N_configs'][i] == nconfigs_dir ):\n",
    "            update[i] = False"
   ]
  },
  {
   "cell_type": "code",
   "execution_count": 341,
   "metadata": {
    "ExecuteTime": {
     "end_time": "2020-11-20T17:03:10.834705Z",
     "start_time": "2020-11-20T17:03:10.826488Z"
    }
   },
   "outputs": [
    {
     "data": {
      "text/plain": [
       "[False, False, False, False, False, False, True, False]"
      ]
     },
     "execution_count": 341,
     "metadata": {},
     "output_type": "execute_result"
    }
   ],
   "source": [
    "update"
   ]
  },
  {
   "cell_type": "markdown",
   "metadata": {},
   "source": [
    "## Update if not up to date"
   ]
  },
  {
   "cell_type": "code",
   "execution_count": 342,
   "metadata": {
    "ExecuteTime": {
     "end_time": "2020-11-20T17:03:22.269042Z",
     "start_time": "2020-11-20T17:03:19.968657Z"
    }
   },
   "outputs": [],
   "source": [
    "results_data = []\n",
    "\n",
    "for i in range(len(data_directories)):\n",
    "    new_row = []\n",
    "    if(update[i] == True):\n",
    "        stau = 2.0\n",
    "        nconfigs_dir = sum(1 for line in open(data_directories[i]))\n",
    "        new_row.append(data_directories[i])\n",
    "        new_row.append(stau)\n",
    "        new_row.append(nconfigs_dir)\n",
    "        \n",
    "        for j in range(numobservables):\n",
    "            observable = list(np.loadtxt(data_directories[i], usecols=j))\n",
    "            MCtime = list(np.arange(1,len(observable)+1,1))\n",
    "\n",
    "            corr = observa()\n",
    "            einfo = errinfo()\n",
    "            einfo.addEnsemble(0, Stau=stau)\n",
    "            corr.primary_observable(0,'$Q$ HMC', [0], ['R0'], [MCtime], [observable], (1,1))\n",
    "            [obs, eobs]= corr.vwerr(errinfo=einfo)\n",
    "            [tauobs, etauobs] = corr.tauint(errinfo=einfo)\n",
    "            tauobs = tauobs[0][0][0]\n",
    "            etauobs = etauobs[0][0][0]\n",
    "\n",
    "            new_row.append(obs)\n",
    "            new_row.append(eobs)\n",
    "            new_row.append(tauobs)\n",
    "            new_row.append(etauobs)\n",
    "        \n",
    "        if(i == 0):\n",
    "            results_data = np.array([new_row])\n",
    "        else:\n",
    "            results_data = np.append(results_data, [new_row], axis=0) \n",
    "    else:\n",
    "        new_row.append(list(results[i]))\n",
    "        \n",
    "        if(i == 0):\n",
    "            results_data = np.array(new_row)\n",
    "        else:\n",
    "            results_data = np.append(results_data, new_row, axis=0)\n",
    "            \n",
    "\n",
    "np.savetxt(results_dir, results_data, fmt='%s')\n",
    "    \n",
    "      "
   ]
  },
  {
   "cell_type": "code",
   "execution_count": 343,
   "metadata": {
    "ExecuteTime": {
     "end_time": "2020-11-20T17:03:26.952168Z",
     "start_time": "2020-11-20T17:03:26.938223Z"
    }
   },
   "outputs": [],
   "source": [
    "results = np.genfromtxt(\"results/check.txt\", dtype=([('Data_directory', 'S30'), ('Stau', '<f8'),   ('N_configs', '<i4'), \n",
    "                ('t2E1', '<f8'), ('errt2E1', '<f8'), ('taut2E1', '<f8'), ('errtaut2E1', '<f8'),\n",
    "                ('t2E5', '<f8'), ('errt2E5', '<f8'), ('taut2E5', '<f8'), ('errtaut2E5', '<f8'),\n",
    "                ('t2E7', '<f8'), ('errt2E7', '<f8'), ('taut2E7', '<f8'), ('errtaut2E7', '<f8'),\n",
    "                ('Q', '<f8'), ('errQ', '<f8'), ('tauQ', '<f8'), ('errtauQ', '<f8')]))"
   ]
  },
  {
   "cell_type": "markdown",
   "metadata": {
    "variables": {
     "printwe(results['t2E1'][0],results['errt2E1'][0])": "0.046056(54)",
     "printwe(tauQhmc, etauQhmc)": "<p><strong>NameError</strong>: name &#39;tauQhmc&#39; is not defined</p>\n",
     "results['N_configs'][0]": "119501"
    }
   },
   "source": [
    "|Algorithm|Statistics| $t2E1$| $\\tau_{\\text{int}}$ | $\\tau_{\\text{int}}/\\tau_{\\text{int}}^{\\text{(HMC)}}$\n",
    "|:-:|:-:|:-:|:-:|:-:|\n",
    "|HMC| {{results['N_configs'][0]}} | {{printwe(results['t2E1'][0],results['errt2E1'][0])}}| {{printwe(tauQhmc, etauQhmc)}} | - |\n"
   ]
  },
  {
   "cell_type": "code",
   "execution_count": null,
   "metadata": {},
   "outputs": [],
   "source": []
  }
 ],
 "metadata": {
  "kernelspec": {
   "display_name": "Python 2",
   "language": "python",
   "name": "python2"
  },
  "language_info": {
   "codemirror_mode": {
    "name": "ipython",
    "version": 2
   },
   "file_extension": ".py",
   "mimetype": "text/x-python",
   "name": "python",
   "nbconvert_exporter": "python",
   "pygments_lexer": "ipython2",
   "version": "2.7.15"
  },
  "toc": {
   "base_numbering": 1,
   "nav_menu": {},
   "number_sections": true,
   "sideBar": true,
   "skip_h1_title": true,
   "title_cell": "Table of Contents",
   "title_sidebar": "Contents",
   "toc_cell": false,
   "toc_position": {
    "height": "calc(100% - 180px)",
    "left": "10px",
    "top": "150px",
    "width": "165px"
   },
   "toc_section_display": true,
   "toc_window_display": true
  }
 },
 "nbformat": 4,
 "nbformat_minor": 2
}
